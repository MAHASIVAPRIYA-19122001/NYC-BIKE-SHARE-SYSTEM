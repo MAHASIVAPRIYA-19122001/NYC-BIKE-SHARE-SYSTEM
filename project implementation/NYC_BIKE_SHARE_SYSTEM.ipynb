{
  "nbformat": 4,
  "nbformat_minor": 0,
  "metadata": {
    "colab": {
      "provenance": []
    },
    "kernelspec": {
      "name": "python3",
      "display_name": "Python 3"
    },
    "language_info": {
      "name": "python"
    }
  },
  "cells": [
    {
      "cell_type": "code",
      "source": [
        "pip install download"
      ],
      "metadata": {
        "id": "vEUHi6n1GbEg"
      },
      "execution_count": null,
      "outputs": []
    },
    {
      "cell_type": "code",
      "source": [
        "from download import download\n",
        "import pandas as pd\n",
        "import numpy as np"
      ],
      "metadata": {
        "id": "AwcTrOvaG5LD"
      },
      "execution_count": null,
      "outputs": []
    },
    {
      "cell_type": "code",
      "source": [
        "# downloading the data from the location and storing it in the path tmp/aq\n",
        "path = download('https://s3.amazonaws.com/tripdata/201806-citibike-tripdata.zip','/tmp/aq', kind = 'zip',replace=True)"
      ],
      "metadata": {
        "id": "N_mDbNXzG-Ra"
      },
      "execution_count": null,
      "outputs": []
    },
    {
      "cell_type": "markdown",
      "source": [
        "1.preprocessing"
      ],
      "metadata": {
        "id": "mFXfpYY7eLzK"
      }
    },
    {
      "cell_type": "code",
      "source": [
        "data = pd.read_csv('/tmp/aq/201806-citibike-tripdata.csv')\\\n",
        ".rename(columns = {'birth year':'birth_year',})"
      ],
      "metadata": {
        "id": "qOYI-frSO8iL"
      },
      "execution_count": null,
      "outputs": []
    },
    {
      "cell_type": "code",
      "source": [
        "data.head()"
      ],
      "metadata": {
        "id": "EblVtoFkQTiS"
      },
      "execution_count": null,
      "outputs": []
    },
    {
      "cell_type": "code",
      "source": [
        "df = data[data.birth_year.notnull()]"
      ],
      "metadata": {
        "id": "4BHcsamhQAnY"
      },
      "execution_count": null,
      "outputs": []
    },
    {
      "cell_type": "code",
      "source": [
        "df.head()"
      ],
      "metadata": {
        "id": "_vD5j1LDPNKK"
      },
      "execution_count": null,
      "outputs": []
    },
    {
      "cell_type": "code",
      "source": [
        "d=df.isna().sum()\n",
        "d.head()"
      ],
      "metadata": {
        "id": "SutqJDAuKNM9"
      },
      "execution_count": null,
      "outputs": []
    },
    {
      "cell_type": "code",
      "source": [
        "print(df.shape)\n"
      ],
      "metadata": {
        "id": "dQwHOm8FHsoX"
      },
      "execution_count": null,
      "outputs": []
    },
    {
      "cell_type": "code",
      "source": [
        "df.head()"
      ],
      "metadata": {
        "id": "myAYJJWmH7Cp"
      },
      "execution_count": null,
      "outputs": []
    },
    {
      "cell_type": "code",
      "source": [
        "df.tail()"
      ],
      "metadata": {
        "id": "G1-BXc1TH8m1"
      },
      "execution_count": null,
      "outputs": []
    },
    {
      "cell_type": "markdown",
      "source": [
        "EXPLORATORY DATA ANALYTICS\n"
      ],
      "metadata": {
        "id": "2FgDFLQ_fC1X"
      }
    },
    {
      "cell_type": "code",
      "source": [
        "import matplotlib.pyplot as plt\n",
        "import seaborn as sns\n",
        "from matplotlib.patches import Circle\n",
        "\n",
        "#setting plot style to seaborn\n",
        "plt.style.use('seaborn')"
      ],
      "metadata": {
        "id": "UW-uyk_IfGiW"
      },
      "execution_count": null,
      "outputs": []
    },
    {
      "cell_type": "code",
      "source": [
        "#converting string to datetime object\n",
        "df['starttime']= pd.to_datetime(df['starttime'])\n",
        "\n",
        "#since we are dealing with single month, we grouping by days\n",
        "#using count aggregation to get number of occurances i.e, total trips per day\n",
        "start_time_count = df.set_index('starttime').groupby(pd.Grouper(freq='D')).count()\n",
        "\n",
        "#we have data from July month for only one day which is at last row, lets drop it\n",
        "start_time_count.drop(start_time_count.tail(1).index, axis=0, inplace=True)\n",
        "\n",
        "#again grouping by day and aggregating with sum to get total trip duration per day\n",
        "#which will used while plotting\n",
        "trip_duration_count = df.set_index('starttime').groupby(pd.Grouper(freq='D')).sum()\n",
        "\n",
        "#again dropping the last row for same reason\n",
        "trip_duration_count.drop(trip_duration_count.tail(1).index, axis=0, inplace=True)\n",
        "\n",
        "#plotting total rides per day\n",
        "#using start station id to get the count\n",
        "fig,ax=plt.subplots(figsize=(25,10))\n",
        "ax.bar(start_time_count.index, 'start station id', data=start_time_count, label='Total riders')\n",
        "#bbox_to_anchor is to position the legend box\n",
        "ax.legend(loc =\"lower left\", bbox_to_anchor=(0.01, 0.89), fontsize='20')\n",
        "ax.set_xlabel('Days of the month June 2013', fontsize=30)\n",
        "ax.set_ylabel('Riders',  fontsize=40)\n",
        "ax.set_title('Bikers trend for the month June', fontsize=50)\n",
        "\n",
        "#creating twin x axis to plot line chart is same figure\n",
        "ax2=ax.twinx()\n",
        "#plotting total trip duration of all user per day\n",
        "ax2.plot('tripduration', data=trip_duration_count, color='y', label='Total trip duration', marker='o', linewidth=5, markersize=12)\n",
        "ax2.set_ylabel('Time duration',  fontsize=40)\n",
        "ax2.legend(loc =\"upper left\", bbox_to_anchor=(0.01, 0.9), fontsize='20')\n",
        "\n",
        "ax.set_xticks(trip_duration_count.index)\n",
        "ax.set_xticklabels([i for i in range(1,31)])\n",
        "\n",
        "#tweeking x and y ticks labels of axes1\n",
        "ax.tick_params(labelsize=30, labelcolor='#eb4034')\n",
        "#tweeking x and y ticks labels of axes2\n",
        "ax2.tick_params(labelsize=30, labelcolor='#eb4034')\n",
        "\n",
        "plt.show()"
      ],
      "metadata": {
        "id": "gA98k2S_gaDK"
      },
      "execution_count": null,
      "outputs": []
    },
    {
      "cell_type": "code",
      "source": [
        "#plotting total no.of males and females\n",
        "splot = sns.countplot('gender', data=df)\n",
        "\n",
        "#adding value above each bar:Annotation\n",
        "for p in splot.patches:\n",
        "    an = splot.annotate(format(p.get_height(), '.2f'),\n",
        "                        #bar value is nothing but height of the bar\n",
        "                       (p.get_x() + p.get_width() / 2., p.get_height()),\n",
        "                       ha = 'center',\n",
        "                       va = 'center',\n",
        "                       xytext = (0, 10),\n",
        "                       textcoords = 'offset points')\n",
        "    an.set_size(20)#test size\n",
        "splot.axes.set_title(\"Gender distribution\",fontsize=30)\n",
        "splot.axes.set_xlabel(\"Gender\",fontsize=20)\n",
        "splot.axes.set_ylabel(\"Count\",fontsize=20)\n",
        "\n",
        "#adding x tick values\n",
        "splot.axes.set_xticklabels(['Unknown', 'Male', 'Female'])\n",
        "plt.show()"
      ],
      "metadata": {
        "id": "0EKpY9k7fNwr"
      },
      "execution_count": null,
      "outputs": []
    },
    {
      "cell_type": "code",
      "source": [
        "#converting trip duration from seconds to minuits\n",
        "df['tripduration'] = df['tripduration']/60\n",
        "\n",
        "#creating bins (0-30min, 30-60min, 60-120min, 120 and above)\n",
        "max_limit = df['tripduration'].max()\n",
        "df['tripduration_bins'] = pd.cut(df['tripduration'], [0, 30, 60, 120, max_limit])\n",
        "\n",
        "sns.barplot(x='tripduration_bins', y='tripduration', data=df, estimator=np.size)\n",
        "plt.title('Usual trip duration', fontsize=30)\n",
        "plt.xlabel('Trip duration group', fontsize=20)\n",
        "plt.ylabel('Trip Duration', fontsize=20)\n",
        "plt.show()"
      ],
      "metadata": {
        "id": "Ism8iTDnfz1r"
      },
      "execution_count": null,
      "outputs": []
    },
    {
      "cell_type": "code",
      "source": [
        "#number of trips that started and ended at same station\n",
        "start_end_same = df[df['start station name'] == df['end station name']].shape[0]\n",
        "\n",
        "#number of trips that started and ended at different station\n",
        "start_end_diff = df.shape[0]-start_end_same\n",
        "\n",
        "fig,ax=plt.subplots()\n",
        "ax.pie([start_end_same,start_end_diff], labels=['Same', 'Different'], autopct='%1.2f%%', textprops={'fontsize': 20})\n",
        "ax.set_title('Same start and end location vs Different start and end location', fontsize=20)\n",
        "\n",
        "\n",
        "circle = Circle((0,0), 0.6, facecolor='white')\n",
        "ax.add_artist(circle)\n",
        "\n",
        "plt.show()"
      ],
      "metadata": {
        "id": "aWq2pbLvgVjU"
      },
      "execution_count": null,
      "outputs": []
    },
    {
      "cell_type": "code",
      "source": [
        "#top 10 start station\n",
        "top_start_station = df['start station name'].value_counts()[:10]\n",
        "\n",
        "fig,ax=plt.subplots(figsize=(20,8))\n",
        "ax.bar(x=top_start_station.index, height=top_start_station.values, color='blue', width=0.5)\n",
        "\n",
        "#adding value above each bar:Annotation\n",
        "for p in ax.patches:\n",
        "    an = ax.annotate(format(p.get_height(), '.2f'),\n",
        "                   (p.get_x() + p.get_width() / 2., p.get_height()),\n",
        "                   ha = 'center',\n",
        "                   va = 'center',\n",
        "                   xytext = (0, 10),\n",
        "                   textcoords = 'offset points')\n",
        "    an.set_size(20)\n",
        "ax.set_title(\"Top 10 start locations in NEW YORK CITY\",fontsize=30)\n",
        "ax.set_xlabel(\"Station name\",fontsize=20)\n",
        "\n",
        "#rotating the x tick labels to 45 degrees\n",
        "ax.set_xticklabels(top_start_station.index, rotation = 45, ha=\"right\")\n",
        "ax.set_ylabel(\"Count\",fontsize=20)\n",
        "#tweeking x and y tick labels\n",
        "ax.tick_params(labelsize=15)\n",
        "plt.show()"
      ],
      "metadata": {
        "id": "h5g4iChHhMcQ"
      },
      "execution_count": null,
      "outputs": []
    },
    {
      "cell_type": "code",
      "source": [
        "#top 10 end station\n",
        "top_end_station = df['end station name'].value_counts()[:10]\n",
        "\n",
        "fig,ax=plt.subplots(figsize=(20,8))\n",
        "ax.bar(x=top_end_station.index, height=top_end_station.values, color='red', width=0.5)\n",
        "\n",
        "#adding value above each bar:Annotation\n",
        "for p in ax.patches:\n",
        "    an = ax.annotate(format(p.get_height(), '.2f'),\n",
        "                   (p.get_x() + p.get_width() / 2., p.get_height()),\n",
        "                   ha = 'center',\n",
        "                   va = 'center',\n",
        "                   xytext = (0, 10),\n",
        "                   textcoords = 'offset points')\n",
        "    an.set_size(20)\n",
        "ax.set_title(\"Top 10 end locations in NY\",fontsize=30)\n",
        "ax.set_xlabel(\"Station name\",fontsize=20)\n",
        "\n",
        "#rotating the x tick labels to 45 degrees\n",
        "ax.set_xticklabels(top_end_station.index, rotation = 45, ha=\"right\")\n",
        "ax.set_ylabel(\"Count\",fontsize=20)\n",
        "#tweeking x and y tick labels\n",
        "ax.tick_params(labelsize=15)\n",
        "plt.show()"
      ],
      "metadata": {
        "id": "9SNyWSAKhqaZ"
      },
      "execution_count": null,
      "outputs": []
    },
    {
      "cell_type": "markdown",
      "source": [
        "IMPLEMENTATION\n"
      ],
      "metadata": {
        "id": "nbQyM_2Hd6Cs"
      }
    },
    {
      "cell_type": "markdown",
      "source": [
        "1.NUMBER OF TRIPS"
      ],
      "metadata": {
        "id": "j-9228mGRG5M"
      }
    },
    {
      "cell_type": "code",
      "source": [
        "trips = pd.DataFrame() #creating a dataframe\n",
        "trips['no_of_trips'] = df.groupby(\"bikeid\")[\"bikeid\"].count() #finding the number of trips by each bike\n",
        "trips['avg_duration'] = df.groupby(\"bikeid\")[\"tripduration\"].mean() #avg duration of the trips\n"
      ],
      "metadata": {
        "id": "9wKOLkOFIFIO"
      },
      "execution_count": null,
      "outputs": []
    },
    {
      "cell_type": "code",
      "source": [
        "trips"
      ],
      "metadata": {
        "id": "pBsElUchUZ_U"
      },
      "execution_count": null,
      "outputs": []
    },
    {
      "cell_type": "code",
      "source": [
        "column_headers = list(trips.columns.values)\n",
        "column_headers"
      ],
      "metadata": {
        "id": "RjWXeFRMQvb5"
      },
      "execution_count": null,
      "outputs": []
    },
    {
      "cell_type": "code",
      "source": [
        "a = df['bikeid'].unique()\n",
        "a.sort()\n",
        "a\n",
        "trips['bikeid']=a\n",
        "trips"
      ],
      "metadata": {
        "id": "bW8Ihk0bTsbG"
      },
      "execution_count": null,
      "outputs": []
    },
    {
      "cell_type": "code",
      "source": [
        "trips_graph=trips.head(20)"
      ],
      "metadata": {
        "id": "T8ieWXp0XZZ3"
      },
      "execution_count": null,
      "outputs": []
    },
    {
      "cell_type": "code",
      "source": [
        "trips_graph.plot.bar(x=\"bikeid\", y=\"no_of_trips\", rot=70, title=\"Number of trips\")"
      ],
      "metadata": {
        "id": "SgYtqer3WUrR"
      },
      "execution_count": null,
      "outputs": []
    },
    {
      "cell_type": "code",
      "source": [
        "trips_graph.plot.bar(x=\"bikeid\", y=\"avg_duration\", rot=70, title=\"BikeUsage\",color=\"red\")"
      ],
      "metadata": {
        "id": "UAMxAj3SZFNQ"
      },
      "execution_count": null,
      "outputs": []
    },
    {
      "cell_type": "code",
      "source": [
        "trips_graph.plot.bar(x=\"bikeid\", y=\"no_of_trips\", rot=90, title=\"BikeUsage\",color=\"black\")"
      ],
      "metadata": {
        "id": "O90i8zUBuA_n"
      },
      "execution_count": null,
      "outputs": []
    },
    {
      "cell_type": "code",
      "source": [
        "# testing for bikeid 14529\n",
        "print(df[df['bikeid']==14529].shape)\n",
        "print(df[df['bikeid']==14529]['tripduration'].sum(axis=0)/data[data['bikeid']==14529].shape[0])"
      ],
      "metadata": {
        "id": "Lt9LItRVRVff"
      },
      "execution_count": null,
      "outputs": []
    },
    {
      "cell_type": "code",
      "source": [
        "trips.head()"
      ],
      "metadata": {
        "id": "bQoyxbIZRjJy"
      },
      "execution_count": null,
      "outputs": []
    },
    {
      "cell_type": "code",
      "source": [
        "from datetime import datetime, date\n",
        "\n",
        "age=2013-df['birth_year']\n",
        "df['Age']=age\n",
        "df.head()"
      ],
      "metadata": {
        "id": "Z03WjemZ32zo"
      },
      "execution_count": null,
      "outputs": []
    },
    {
      "cell_type": "code",
      "source": [
        "agegroup= pd.DataFrame()\n",
        "df['Age']"
      ],
      "metadata": {
        "id": "graGKpMr--pU"
      },
      "execution_count": null,
      "outputs": []
    },
    {
      "cell_type": "code",
      "source": [
        "max_limit = df['Age'].max()\n",
        "max_limit"
      ],
      "metadata": {
        "id": "jea0UuCNhji6"
      },
      "execution_count": null,
      "outputs": []
    },
    {
      "cell_type": "code",
      "source": [
        "bins = [0,20,40,60,max_limit]"
      ],
      "metadata": {
        "id": "220uxryUBIrq"
      },
      "execution_count": null,
      "outputs": []
    },
    {
      "cell_type": "code",
      "source": [
        "agegroup = pd.cut(df['Age'], bins=bins).value_counts()\n",
        "agegroup"
      ],
      "metadata": {
        "id": "uHbbw_YFBxyi"
      },
      "execution_count": null,
      "outputs": []
    },
    {
      "cell_type": "code",
      "source": [
        "agegroup.plot.pie(autopct=\"%.1f%%\",title='age group differentiation',counterclock=False);"
      ],
      "metadata": {
        "id": "FuoqFfV1Nn0i"
      },
      "execution_count": null,
      "outputs": []
    },
    {
      "cell_type": "code",
      "source": [
        "plt.figure(figsize=(12,5))\n",
        "sns.countplot(data=df, x=\"starttime\" ) ;"
      ],
      "metadata": {
        "id": "ij4DqP9drM7m"
      },
      "execution_count": null,
      "outputs": []
    },
    {
      "cell_type": "code",
      "source": [
        "trips['starttime']=df['starttime'].head(20)"
      ],
      "metadata": {
        "id": "83m20KVt0wdb"
      },
      "execution_count": null,
      "outputs": []
    }
  ]
}